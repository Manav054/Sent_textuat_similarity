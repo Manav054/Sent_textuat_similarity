{
  "nbformat": 4,
  "nbformat_minor": 0,
  "metadata": {
    "colab": {
      "provenance": [],
      "gpuType": "T4"
    },
    "kernelspec": {
      "name": "python3",
      "display_name": "Python 3"
    },
    "language_info": {
      "name": "python"
    },
    "accelerator": "GPU"
  },
  "cells": [
    {
      "cell_type": "code",
      "source": [
        "import streamlit as st\n",
        "import pandas as pd\n",
        "import numpy as np\n",
        "import sentence_transformers\n",
        "from sklearn.metrics.pairwise import cosine_similarity\n",
        "import pickle"
      ],
      "metadata": {
        "id": "fIbNHU_PGiBr"
      },
      "execution_count": 134,
      "outputs": []
    },
    {
      "cell_type": "code",
      "source": [
        "pickle_in = open(\"/content/sent.pkl\", \"rb\")"
      ],
      "metadata": {
        "id": "BGI6LX40G1bE"
      },
      "execution_count": 132,
      "outputs": []
    },
    {
      "cell_type": "code",
      "source": [
        "model = pickle.load(pickle_in)"
      ],
      "metadata": {
        "id": "y6Sl9aISHHQW"
      },
      "execution_count": 133,
      "outputs": []
    },
    {
      "cell_type": "code",
      "source": [
        "def calculate_similarity(text1, text2) :\n",
        "  sent1 = model.encode(text1)\n",
        "  sent2 = model.endcode(text2)\n",
        "  value = cosine_similarity(sent1, sent2)[0]\n",
        "  return round(value[0], 4)"
      ],
      "metadata": {
        "id": "mGw35c1RJ-E2"
      },
      "execution_count": 136,
      "outputs": []
    },
    {
      "cell_type": "code",
      "source": [
        "def main() :\n",
        "  st.title(\"Semantic Similarity Tester\")\n",
        "  html_temp = \"\"\"\n",
        "  <div style = \"backgroud-color : tomato ; padding : 10px\">\n",
        "  <h2 style = \"color : white ; text-align : center ;>Streamlit Semantic Textual Similarity App</h2>\n",
        "  </div>\n",
        "  \"\"\"\n",
        "  st.markdown(html_temp, unsafe_allow_html = True)\n",
        "  text1 = st.text_input(\"Text1\", \"Type Here\")\n",
        "  text2 = st.text_input(\"Text2\", \"Type Here\")\n",
        "  similarity = \"\"\n",
        "\n",
        "  if st.button(\"Calculate similarity\") :\n",
        "    similarity = calculate_similarity(text1, text2)\n",
        "  st.success(\"Similarity is {}\".format(similarity))"
      ],
      "metadata": {
        "id": "h6RvsW2fHLhM"
      },
      "execution_count": 135,
      "outputs": []
    }
  ]
}